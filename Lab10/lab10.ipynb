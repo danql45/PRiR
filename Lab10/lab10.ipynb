{
  "nbformat": 4,
  "nbformat_minor": 0,
  "metadata": {
    "colab": {
      "name": "lab10.ipynb",
      "provenance": [],
      "collapsed_sections": []
    },
    "kernelspec": {
      "name": "python3",
      "display_name": "Python 3"
    },
    "accelerator": "GPU",
    "widgets": {
      "application/vnd.jupyter.widget-state+json": {
        "2393a1f48b4646409df303f610734a48": {
          "model_module": "@jupyter-widgets/controls",
          "model_name": "VBoxModel",
          "state": {
            "_view_name": "VBoxView",
            "_dom_classes": [
              "widget-interact"
            ],
            "_model_name": "VBoxModel",
            "_view_module": "@jupyter-widgets/controls",
            "_model_module_version": "1.5.0",
            "_view_count": null,
            "_view_module_version": "1.5.0",
            "box_style": "",
            "layout": "IPY_MODEL_ac26150846854c2192787cde2a8385b0",
            "_model_module": "@jupyter-widgets/controls",
            "children": [
              "IPY_MODEL_1e00fe6a6f56417a9c7584fc2feec11d",
              "IPY_MODEL_97f76ff845634a17a4c8234fdf6f0f90"
            ]
          }
        },
        "ac26150846854c2192787cde2a8385b0": {
          "model_module": "@jupyter-widgets/base",
          "model_name": "LayoutModel",
          "state": {
            "_view_name": "LayoutView",
            "grid_template_rows": null,
            "right": null,
            "justify_content": null,
            "_view_module": "@jupyter-widgets/base",
            "overflow": null,
            "_model_module_version": "1.2.0",
            "_view_count": null,
            "flex_flow": null,
            "width": null,
            "min_width": null,
            "border": null,
            "align_items": null,
            "bottom": null,
            "_model_module": "@jupyter-widgets/base",
            "top": null,
            "grid_column": null,
            "overflow_y": null,
            "overflow_x": null,
            "grid_auto_flow": null,
            "grid_area": null,
            "grid_template_columns": null,
            "flex": null,
            "_model_name": "LayoutModel",
            "justify_items": null,
            "grid_row": null,
            "max_height": null,
            "align_content": null,
            "visibility": null,
            "align_self": null,
            "height": null,
            "min_height": null,
            "padding": null,
            "grid_auto_rows": null,
            "grid_gap": null,
            "max_width": null,
            "order": null,
            "_view_module_version": "1.2.0",
            "grid_template_areas": null,
            "object_position": null,
            "object_fit": null,
            "grid_auto_columns": null,
            "margin": null,
            "display": null,
            "left": null
          }
        },
        "1e00fe6a6f56417a9c7584fc2feec11d": {
          "model_module": "@jupyter-widgets/controls",
          "model_name": "IntSliderModel",
          "state": {
            "_view_name": "IntSliderView",
            "style": "IPY_MODEL_285f4b890a6f4d22b7eacc04a2c1bff0",
            "_dom_classes": [],
            "description": "Image index",
            "step": 1,
            "_model_name": "IntSliderModel",
            "orientation": "horizontal",
            "max": 9999,
            "_view_module": "@jupyter-widgets/controls",
            "_model_module_version": "1.5.0",
            "value": 9031,
            "_view_count": null,
            "disabled": false,
            "_view_module_version": "1.5.0",
            "min": 0,
            "continuous_update": true,
            "readout_format": "d",
            "description_tooltip": null,
            "readout": true,
            "_model_module": "@jupyter-widgets/controls",
            "layout": "IPY_MODEL_e33c5c4f457f4492b2ed4d6fa5b974a6"
          }
        },
        "97f76ff845634a17a4c8234fdf6f0f90": {
          "model_module": "@jupyter-widgets/output",
          "model_name": "OutputModel",
          "state": {
            "_view_name": "OutputView",
            "msg_id": "",
            "_dom_classes": [],
            "_model_name": "OutputModel",
            "outputs": [
              {
                "output_type": "display_data",
                "metadata": {
                  "tags": [],
                  "needs_background": "light"
                },
                "image/png": "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\n",
                "text/plain": "<Figure size 720x360 with 2 Axes>"
              }
            ],
            "_view_module": "@jupyter-widgets/output",
            "_model_module_version": "1.0.0",
            "_view_count": null,
            "_view_module_version": "1.0.0",
            "layout": "IPY_MODEL_8fc86ba0f5a44ab4ba5eec5d2da194d4",
            "_model_module": "@jupyter-widgets/output"
          }
        },
        "285f4b890a6f4d22b7eacc04a2c1bff0": {
          "model_module": "@jupyter-widgets/controls",
          "model_name": "SliderStyleModel",
          "state": {
            "_view_name": "StyleView",
            "handle_color": null,
            "_model_name": "SliderStyleModel",
            "description_width": "",
            "_view_module": "@jupyter-widgets/base",
            "_model_module_version": "1.5.0",
            "_view_count": null,
            "_view_module_version": "1.2.0",
            "_model_module": "@jupyter-widgets/controls"
          }
        },
        "e33c5c4f457f4492b2ed4d6fa5b974a6": {
          "model_module": "@jupyter-widgets/base",
          "model_name": "LayoutModel",
          "state": {
            "_view_name": "LayoutView",
            "grid_template_rows": null,
            "right": null,
            "justify_content": null,
            "_view_module": "@jupyter-widgets/base",
            "overflow": null,
            "_model_module_version": "1.2.0",
            "_view_count": null,
            "flex_flow": null,
            "width": null,
            "min_width": null,
            "border": null,
            "align_items": null,
            "bottom": null,
            "_model_module": "@jupyter-widgets/base",
            "top": null,
            "grid_column": null,
            "overflow_y": null,
            "overflow_x": null,
            "grid_auto_flow": null,
            "grid_area": null,
            "grid_template_columns": null,
            "flex": null,
            "_model_name": "LayoutModel",
            "justify_items": null,
            "grid_row": null,
            "max_height": null,
            "align_content": null,
            "visibility": null,
            "align_self": null,
            "height": null,
            "min_height": null,
            "padding": null,
            "grid_auto_rows": null,
            "grid_gap": null,
            "max_width": null,
            "order": null,
            "_view_module_version": "1.2.0",
            "grid_template_areas": null,
            "object_position": null,
            "object_fit": null,
            "grid_auto_columns": null,
            "margin": null,
            "display": null,
            "left": null
          }
        },
        "8fc86ba0f5a44ab4ba5eec5d2da194d4": {
          "model_module": "@jupyter-widgets/base",
          "model_name": "LayoutModel",
          "state": {
            "_view_name": "LayoutView",
            "grid_template_rows": null,
            "right": null,
            "justify_content": null,
            "_view_module": "@jupyter-widgets/base",
            "overflow": null,
            "_model_module_version": "1.2.0",
            "_view_count": null,
            "flex_flow": null,
            "width": null,
            "min_width": null,
            "border": null,
            "align_items": null,
            "bottom": null,
            "_model_module": "@jupyter-widgets/base",
            "top": null,
            "grid_column": null,
            "overflow_y": null,
            "overflow_x": null,
            "grid_auto_flow": null,
            "grid_area": null,
            "grid_template_columns": null,
            "flex": null,
            "_model_name": "LayoutModel",
            "justify_items": null,
            "grid_row": null,
            "max_height": null,
            "align_content": null,
            "visibility": null,
            "align_self": null,
            "height": null,
            "min_height": null,
            "padding": null,
            "grid_auto_rows": null,
            "grid_gap": null,
            "max_width": null,
            "order": null,
            "_view_module_version": "1.2.0",
            "grid_template_areas": null,
            "object_position": null,
            "object_fit": null,
            "grid_auto_columns": null,
            "margin": null,
            "display": null,
            "left": null
          }
        }
      }
    }
  },
  "cells": [
    {
      "cell_type": "code",
      "metadata": {
        "id": "mtzau9CWL4qz"
      },
      "source": [
        "#ZADANIE 1"
      ],
      "execution_count": null,
      "outputs": []
    },
    {
      "cell_type": "code",
      "metadata": {
        "colab": {
          "base_uri": "https://localhost:8080/"
        },
        "id": "RW76HUI9GsQD",
        "outputId": "0ea3eb66-90b7-4bca-d093-0dc2c364b85b"
      },
      "source": [
        "import tensorflow as tf\r\n",
        "import math\r\n",
        "import timeit\r\n",
        "device_name = tf.test.gpu_device_name()\r\n",
        "if device_name != '/device:GPU:0':\r\n",
        "  raise SystemError('GPU device not found')\r\n",
        "print('Found GPU at: {}'.format(device_name))"
      ],
      "execution_count": null,
      "outputs": [
        {
          "output_type": "stream",
          "text": [
            "Found GPU at: /device:GPU:0\n"
          ],
          "name": "stdout"
        }
      ]
    },
    {
      "cell_type": "code",
      "metadata": {
        "colab": {
          "base_uri": "https://localhost:8080/"
        },
        "id": "Pv4w27xhG56t",
        "outputId": "f55cea9d-54d7-4da8-f11f-5d4499704bb8"
      },
      "source": [
        "#Simpson's Method\r\n",
        "\r\n",
        "def integral(y, x):\r\n",
        "    dx = (x[-1] - x[0]) / (int(x.shape[0]) - 1)\r\n",
        "    return (y[0] + y[-1] + 4*tf.reduce_sum(y[1:-1:2]) + 2*tf.reduce_sum(y[2:-1:2])) * dx / 3\r\n",
        "\r\n",
        "# Launch the graph in a session.\r\n",
        "with tf.compat.v1.Session() as ses:\r\n",
        "\r\n",
        "  # Build a graph.\r\n",
        "  a = tf.constant(0, dtype=tf.float64)\r\n",
        "  b = tf.constant(1, dtype=tf.float64)\r\n",
        "  x = tf.linspace(a, b, 1000)\r\n",
        "  result = integral(tf.math.sqrt(1.3*x+0.2)/tf.math.log(x+1.1), x)\r\n",
        "\r\n",
        "  # Evaluate the tensor `result`.\r\n",
        "  sess = tf.compat.v1.Session()\r\n",
        "  print(\"Metoda Simpsona:\", end=\" \")\r\n",
        "  print(sess.run(result))"
      ],
      "execution_count": null,
      "outputs": [
        {
          "output_type": "stream",
          "text": [
            "Metoda Simpsona: 2.20941615107219\n"
          ],
          "name": "stdout"
        }
      ]
    },
    {
      "cell_type": "code",
      "metadata": {
        "colab": {
          "base_uri": "https://localhost:8080/"
        },
        "id": "OfV35LWRIDqj",
        "outputId": "87a60ff6-8621-42e8-b733-c178accff1e6"
      },
      "source": [
        "#Simpson's Method by CPU\r\n",
        "def cpu():\r\n",
        "  with tf.device('/cpu:0'):\r\n",
        "    def integral(y, x):\r\n",
        "      dx = (x[-1] - x[0]) / (int(x.shape[0]) - 1)\r\n",
        "      return (y[0] + y[-1] + 4*tf.reduce_sum(y[1:-1:2]) + 2*tf.reduce_sum(y[2:-1:2])) * dx / 3\r\n",
        "    # Launch the graph in a session.\r\n",
        "    with tf.compat.v1.Session() as ses:\r\n",
        "      # Build a graph.\r\n",
        "      a = tf.constant(0, dtype=tf.float64)\r\n",
        "      b = tf.constant(1, dtype=tf.float64)\r\n",
        "      x = tf.linspace(a, b, 1000)\r\n",
        "      result = integral(tf.math.sqrt(1.3*x+0.2)/tf.math.log(x+1.1), x)\r\n",
        "\r\n",
        "      # Evaluate the tensor `result`.\r\n",
        "      sess = tf.compat.v1.Session()\r\n",
        "  return 0\r\n",
        "\r\n",
        "cpu()\r\n",
        "print('CPU (s):')\r\n",
        "cpu_time = timeit.timeit('cpu()', number=10, setup=\"from __main__ import cpu\")\r\n",
        "print(cpu_time)\r\n",
        "\r\n",
        "#Simpson's Method by GPU\r\n",
        "def gpu():\r\n",
        "  with tf.device('/device:GPU:0'):\r\n",
        "    def integral(y, x):\r\n",
        "      dx = (x[-1] - x[0]) / (int(x.shape[0]) - 1)\r\n",
        "      return (y[0] + y[-1] + 4*tf.reduce_sum(y[1:-1:2]) + 2*tf.reduce_sum(y[2:-1:2])) * dx / 3\r\n",
        "    # Launch the graph in a session.\r\n",
        "    with tf.compat.v1.Session() as ses:\r\n",
        "      # Build a graph.\r\n",
        "      a = tf.constant(0, dtype=tf.float64)\r\n",
        "      b = tf.constant(1, dtype=tf.float64)\r\n",
        "      x = tf.linspace(a, b, 1000)\r\n",
        "      result = integral(tf.math.sqrt(1.3*x+0.2)/tf.math.log(x+1.1), x)\r\n",
        "      # Evaluate the tensor `result`.\r\n",
        "      sess = tf.compat.v1.Session()\r\n",
        "  return 0\r\n",
        "\r\n",
        "gpu()\r\n",
        "print('GPU (s):')\r\n",
        "gpu_time = timeit.timeit('gpu()', number=10, setup=\"from __main__ import gpu\")\r\n",
        "print(gpu_time)"
      ],
      "execution_count": null,
      "outputs": [
        {
          "output_type": "stream",
          "text": [
            "CPU (s):\n",
            "0.4749282499999481\n",
            "GPU (s):\n",
            "0.4942055500000606\n"
          ],
          "name": "stdout"
        }
      ]
    },
    {
      "cell_type": "code",
      "metadata": {
        "colab": {
          "base_uri": "https://localhost:8080/"
        },
        "id": "R8xU9VznHOwT",
        "outputId": "1b49c015-d7f7-4fbd-c9f4-2fd1f614caf9"
      },
      "source": [
        "#Trapezoidal Method\r\n",
        "\r\n",
        "def integral(y, x):\r\n",
        "    dx = (x[-1] - x[0]) / (int(x.shape[0]) - 1)\r\n",
        "    return ((y[0] + y[-1])/2 + tf.reduce_sum(y[1:-1])) * dx\r\n",
        "\r\n",
        "# Launch the graph in a session.\r\n",
        "with tf.compat.v1.Session() as ses:\r\n",
        "\r\n",
        "  # Build a graph.\r\n",
        "  a = tf.constant(0, dtype=tf.float64)\r\n",
        "  b = tf.constant(1, dtype=tf.float64)\r\n",
        "  x = tf.linspace(a, b, 1000)\r\n",
        "  #result = integral(x*x+2*x, x)\r\n",
        "  result = integral(tf.math.sqrt(1.3*x+0.2)/tf.math.log(x+1.1), x)\r\n",
        "\r\n",
        "  # Evaluate the tensor `result`.\r\n",
        "  sess = tf.compat.v1.Session()\r\n",
        "  print(\"Metoda Trapezów:\", end=\" \")\r\n",
        "  print(sess.run(result))"
      ],
      "execution_count": null,
      "outputs": [
        {
          "output_type": "stream",
          "text": [
            "Metoda Trapezów: 2.209969440534477\n"
          ],
          "name": "stdout"
        }
      ]
    },
    {
      "cell_type": "code",
      "metadata": {
        "colab": {
          "base_uri": "https://localhost:8080/"
        },
        "id": "4XPa0uu6I6zq",
        "outputId": "de6845e0-fcff-47e1-b421-5f56c2a3e20c"
      },
      "source": [
        "#Trapezoidal Method by CPU\r\n",
        "def cpu():\r\n",
        "  def integral(y, x):\r\n",
        "    dx = (x[-1] - x[0]) / (int(x.shape[0]) - 1)\r\n",
        "    return ((y[0] + y[-1])/2 + tf.reduce_sum(y[1:-1])) * dx\r\n",
        "  # Launch the graph in a session.\r\n",
        "  with tf.compat.v1.Session() as ses:\r\n",
        "    # Build a graph.\r\n",
        "    a = tf.constant(0, dtype=tf.float64)\r\n",
        "    b = tf.constant(1, dtype=tf.float64)\r\n",
        "    x = tf.linspace(a, b, 1000)\r\n",
        "    #result = integral(x*x+2*x, x)\r\n",
        "    result = integral(tf.math.sqrt(1.3*x+0.2)/tf.math.log(x+1.1), x)\r\n",
        "    # Evaluate the tensor `result`.\r\n",
        "    sess = tf.compat.v1.Session()\r\n",
        "  return 0\r\n",
        "\r\n",
        "cpu()\r\n",
        "print('CPU (s):')\r\n",
        "cpu_time = timeit.timeit('cpu()', number=10, setup=\"from __main__ import cpu\")\r\n",
        "print(cpu_time)\r\n",
        "\r\n",
        "#Trapezoidal Method by GPU\r\n",
        "def cpu():\r\n",
        "  def integral(y, x):\r\n",
        "    dx = (x[-1] - x[0]) / (int(x.shape[0]) - 1)\r\n",
        "    return ((y[0] + y[-1])/2 + tf.reduce_sum(y[1:-1])) * dx\r\n",
        "  # Launch the graph in a session.\r\n",
        "  with tf.compat.v1.Session() as ses:\r\n",
        "    # Build a graph.\r\n",
        "    a = tf.constant(0, dtype=tf.float64)\r\n",
        "    b = tf.constant(1, dtype=tf.float64)\r\n",
        "    x = tf.linspace(a, b, 1000)\r\n",
        "    #result = integral(x*x+2*x, x)\r\n",
        "    result = integral(tf.math.sqrt(1.3*x+0.2)/tf.math.log(x+1.1), x)\r\n",
        "    # Evaluate the tensor `result`.\r\n",
        "    sess = tf.compat.v1.Session()\r\n",
        "  return 0\r\n",
        "\r\n",
        "gpu()\r\n",
        "print('GPU (s):')\r\n",
        "gpu_time = timeit.timeit('gpu()', number=10, setup=\"from __main__ import gpu\")\r\n",
        "print(gpu_time)"
      ],
      "execution_count": null,
      "outputs": [
        {
          "output_type": "stream",
          "text": [
            "CPU (s):\n",
            "0.44048126300003787\n",
            "GPU (s):\n",
            "0.49152585800004545\n"
          ],
          "name": "stdout"
        }
      ]
    },
    {
      "cell_type": "code",
      "metadata": {
        "colab": {
          "base_uri": "https://localhost:8080/"
        },
        "id": "MMXq3AHTHRtB",
        "outputId": "5cbd06b8-a2d4-4f44-a863-60e9053e9ce3"
      },
      "source": [
        "#Rectangular Method\r\n",
        "def integral(y, x):\r\n",
        "    dx = (x[-1] - x[0]) / (int(x.shape[0]) - 1)\r\n",
        "    return ((y[0] + y[-1]) + tf.reduce_sum(y[1:-1])) * dx\r\n",
        "\r\n",
        "# Launch the graph in a session.\r\n",
        "with tf.compat.v1.Session() as ses:\r\n",
        "\r\n",
        "  # Build a graph.\r\n",
        "  a = tf.constant(0, dtype=tf.float64)\r\n",
        "  b = tf.constant(1, dtype=tf.float64)\r\n",
        "  x = tf.linspace(a, b, 1000)\r\n",
        "  #result = integral(x*x+2*x, x)\r\n",
        "  result = integral(tf.math.sqrt(1.3*x+0.2)/tf.math.log(x+1.1), x)\r\n",
        "\r\n",
        "  # Evaluate the tensor `result`.\r\n",
        "  sess = tf.compat.v1.Session()\r\n",
        "  print(\"Metoda Prostokątów:\", end=\" \")\r\n",
        "  print(sess.run(result))"
      ],
      "execution_count": null,
      "outputs": [
        {
          "output_type": "stream",
          "text": [
            "Metoda Prostokątów: 2.2131440802927407\n"
          ],
          "name": "stdout"
        }
      ]
    },
    {
      "cell_type": "code",
      "metadata": {
        "colab": {
          "base_uri": "https://localhost:8080/"
        },
        "id": "ss2zHwfaKPq5",
        "outputId": "37f730ca-3ecd-4451-e1e2-24b418a9f867"
      },
      "source": [
        "#Rectangular Method by CPU\r\n",
        "def cpu():\r\n",
        "  def integral(y, x):\r\n",
        "    dx = (x[-1] - x[0]) / (int(x.shape[0]) - 1)\r\n",
        "    return ((y[0] + y[-1]) + tf.reduce_sum(y[1:-1])) * dx\r\n",
        "  # Launch the graph in a session.\r\n",
        "  with tf.compat.v1.Session() as ses:\r\n",
        "    # Build a graph.\r\n",
        "    a = tf.constant(0, dtype=tf.float64)\r\n",
        "    b = tf.constant(1, dtype=tf.float64)\r\n",
        "    x = tf.linspace(a, b, 1000)\r\n",
        "    #result = integral(x*x+2*x, x)\r\n",
        "    result = integral(tf.math.sqrt(1.3*x+0.2)/tf.math.log(x+1.1), x)\r\n",
        "  return 0\r\n",
        "\r\n",
        "cpu()\r\n",
        "print('CPU (s):')\r\n",
        "cpu_time = timeit.timeit('cpu()', number=10, setup=\"from __main__ import cpu\")\r\n",
        "print(cpu_time)\r\n",
        "\r\n",
        "#Rectangular Method by GPU\r\n",
        "def gpu():\r\n",
        "  def integral(y, x):\r\n",
        "    dx = (x[-1] - x[0]) / (int(x.shape[0]) - 1)\r\n",
        "    return ((y[0] + y[-1]) + tf.reduce_sum(y[1:-1])) * dx\r\n",
        "  # Launch the graph in a session.\r\n",
        "  with tf.compat.v1.Session() as ses:\r\n",
        "    # Build a graph.\r\n",
        "    a = tf.constant(0, dtype=tf.float64)\r\n",
        "    b = tf.constant(1, dtype=tf.float64)\r\n",
        "    x = tf.linspace(a, b, 1000)\r\n",
        "    #result = integral(x*x+2*x, x)\r\n",
        "    result = integral(tf.math.sqrt(1.3*x+0.2)/tf.math.log(x+1.1), x)\r\n",
        "  return 0\r\n",
        "\r\n",
        "gpu()\r\n",
        "print('GPU (s):')\r\n",
        "gpu_time = timeit.timeit('gpu()', number=10, setup=\"from __main__ import gpu\")\r\n",
        "print(gpu_time)"
      ],
      "execution_count": null,
      "outputs": [
        {
          "output_type": "stream",
          "text": [
            "CPU (s):\n",
            "0.4034677790000387\n",
            "GPU (s):\n",
            "0.4068862609999542\n"
          ],
          "name": "stdout"
        }
      ]
    },
    {
      "cell_type": "code",
      "metadata": {
        "id": "Y23syGXlLx_H"
      },
      "source": [
        "#############################################################################\r\n",
        "#############################################################################\r\n",
        "#ZADANIE 2"
      ],
      "execution_count": null,
      "outputs": []
    },
    {
      "cell_type": "code",
      "metadata": {
        "colab": {
          "base_uri": "https://localhost:8080/"
        },
        "id": "6FgXbe2cL3J4",
        "outputId": "7100d413-4121-4efa-cb6d-820d8ac4757b"
      },
      "source": [
        "#Interpolacja funkcji 1D\r\n",
        "import numpy as np\r\n",
        "import tensorflow as tf\r\n",
        "from tensorflow import keras\r\n",
        "from keras.models import Sequential\r\n",
        "from keras.layers import Dense\r\n",
        "\r\n",
        "def inputfunct(x):\r\n",
        "  return (x-2)*(x+1)*(x-4)\r\n",
        "\r\n",
        "x = np.arange(-100.0, 100.0, 0.005, dtype = float)\r\n",
        "y = []\r\n",
        "for i in x:\r\n",
        "  y.append(inputfunct(i))\r\n",
        "y = np.array(y, dtype = float)\r\n",
        "\r\n",
        "### Model creation: adding layers and compilation\r\n",
        "model = tf.keras.Sequential()\r\n",
        "model.add(Dense(1, input_shape = [1], activation='relu'))\r\n",
        "model.add(Dense(500, activation='relu', input_shape = [1]))\r\n",
        "model.add(Dense(500, activation='relu', input_shape = [1]))\r\n",
        "model.add(Dense(500, activation='relu', input_shape = [1]))\r\n",
        "model.add(Dense(500, activation='relu', input_shape = [1]))\r\n",
        "model.add(Dense(500, activation='relu', input_shape = [1]))\r\n",
        "model.add(Dense(500, activation='relu', input_shape = [1]))\r\n",
        "model.add(Dense(500, activation='relu', input_shape = [1]))\r\n",
        "model.add(Dense(500, activation='relu', input_shape = [1]))\r\n",
        "model.add(Dense(1, activation='linear'))\r\n",
        "\r\n",
        "\r\n",
        "model.compile(optimizer='adam', loss='MSLE')\r\n",
        "#Train the Neural Network\r\n",
        "model.fit(x, y, epochs = 50, steps_per_epoch = 500)"
      ],
      "execution_count": null,
      "outputs": [
        {
          "output_type": "stream",
          "text": [
            "Epoch 1/50\n",
            "500/500 [==============================] - 2s 2ms/step - loss: 4.2288\n",
            "Epoch 2/50\n",
            "500/500 [==============================] - 1s 2ms/step - loss: 0.0628\n",
            "Epoch 3/50\n",
            "500/500 [==============================] - 1s 2ms/step - loss: 0.0549\n",
            "Epoch 4/50\n",
            "500/500 [==============================] - 1s 2ms/step - loss: 0.0573\n",
            "Epoch 5/50\n",
            "500/500 [==============================] - 1s 2ms/step - loss: 0.0579\n",
            "Epoch 6/50\n",
            "500/500 [==============================] - 1s 2ms/step - loss: 0.0568\n",
            "Epoch 7/50\n",
            "500/500 [==============================] - 1s 2ms/step - loss: 0.0495\n",
            "Epoch 8/50\n",
            "500/500 [==============================] - 1s 2ms/step - loss: 0.0522\n",
            "Epoch 9/50\n",
            "500/500 [==============================] - 1s 2ms/step - loss: 0.0541\n",
            "Epoch 10/50\n",
            "500/500 [==============================] - 1s 2ms/step - loss: 0.0502\n",
            "Epoch 11/50\n",
            "500/500 [==============================] - 1s 2ms/step - loss: 0.0496\n",
            "Epoch 12/50\n",
            "500/500 [==============================] - 1s 2ms/step - loss: 0.0538\n",
            "Epoch 13/50\n",
            "500/500 [==============================] - 1s 2ms/step - loss: 0.0508\n",
            "Epoch 14/50\n",
            "500/500 [==============================] - 1s 2ms/step - loss: 0.0491\n",
            "Epoch 15/50\n",
            "500/500 [==============================] - 1s 2ms/step - loss: 0.0546\n",
            "Epoch 16/50\n",
            "500/500 [==============================] - 1s 2ms/step - loss: 0.0527\n",
            "Epoch 17/50\n",
            "500/500 [==============================] - 1s 2ms/step - loss: 0.0487\n",
            "Epoch 18/50\n",
            "500/500 [==============================] - 1s 2ms/step - loss: 0.0519\n",
            "Epoch 19/50\n",
            "500/500 [==============================] - 1s 2ms/step - loss: 0.0566\n",
            "Epoch 20/50\n",
            "500/500 [==============================] - 1s 2ms/step - loss: 0.0496\n",
            "Epoch 21/50\n",
            "500/500 [==============================] - 1s 2ms/step - loss: 0.0481\n",
            "Epoch 22/50\n",
            "500/500 [==============================] - 1s 2ms/step - loss: 0.0477\n",
            "Epoch 23/50\n",
            "500/500 [==============================] - 1s 2ms/step - loss: 0.0473\n",
            "Epoch 24/50\n",
            "500/500 [==============================] - 1s 2ms/step - loss: 0.0519\n",
            "Epoch 25/50\n",
            "500/500 [==============================] - 1s 2ms/step - loss: 0.0507\n",
            "Epoch 26/50\n",
            "500/500 [==============================] - 1s 2ms/step - loss: 0.0592\n",
            "Epoch 27/50\n",
            "500/500 [==============================] - 1s 2ms/step - loss: 0.0455\n",
            "Epoch 28/50\n",
            "500/500 [==============================] - 1s 2ms/step - loss: 0.0521\n",
            "Epoch 29/50\n",
            "500/500 [==============================] - 1s 2ms/step - loss: 0.0523\n",
            "Epoch 30/50\n",
            "500/500 [==============================] - 1s 2ms/step - loss: 0.0470\n",
            "Epoch 31/50\n",
            "500/500 [==============================] - 1s 2ms/step - loss: 0.0548\n",
            "Epoch 32/50\n",
            "500/500 [==============================] - 1s 2ms/step - loss: 0.0503\n",
            "Epoch 33/50\n",
            "500/500 [==============================] - 1s 2ms/step - loss: 0.0494\n",
            "Epoch 34/50\n",
            "500/500 [==============================] - 1s 2ms/step - loss: 0.0472\n",
            "Epoch 35/50\n",
            "500/500 [==============================] - 1s 2ms/step - loss: 0.0507\n",
            "Epoch 36/50\n",
            "500/500 [==============================] - 1s 2ms/step - loss: 0.0490\n",
            "Epoch 37/50\n",
            "500/500 [==============================] - 1s 2ms/step - loss: 0.0443\n",
            "Epoch 38/50\n",
            "500/500 [==============================] - 1s 2ms/step - loss: 0.0561\n",
            "Epoch 39/50\n",
            "500/500 [==============================] - 1s 2ms/step - loss: 0.0463\n",
            "Epoch 40/50\n",
            "500/500 [==============================] - 1s 2ms/step - loss: 0.0485\n",
            "Epoch 41/50\n",
            "500/500 [==============================] - 1s 2ms/step - loss: 0.0511\n",
            "Epoch 42/50\n",
            "500/500 [==============================] - 1s 2ms/step - loss: 0.0492\n",
            "Epoch 43/50\n",
            "500/500 [==============================] - 1s 2ms/step - loss: 0.0518\n",
            "Epoch 44/50\n",
            "500/500 [==============================] - 1s 2ms/step - loss: 0.0489\n",
            "Epoch 45/50\n",
            "500/500 [==============================] - 1s 2ms/step - loss: 0.0487\n",
            "Epoch 46/50\n",
            "500/500 [==============================] - 1s 2ms/step - loss: 0.0473\n",
            "Epoch 47/50\n",
            "500/500 [==============================] - 1s 2ms/step - loss: 0.0520\n",
            "Epoch 48/50\n",
            "500/500 [==============================] - 1s 2ms/step - loss: 0.0472\n",
            "Epoch 49/50\n",
            "500/500 [==============================] - 1s 2ms/step - loss: 0.0529\n",
            "Epoch 50/50\n",
            "500/500 [==============================] - 1s 2ms/step - loss: 0.0458\n"
          ],
          "name": "stdout"
        },
        {
          "output_type": "execute_result",
          "data": {
            "text/plain": [
              "<tensorflow.python.keras.callbacks.History at 0x7f68be604860>"
            ]
          },
          "metadata": {
            "tags": []
          },
          "execution_count": 17
        }
      ]
    },
    {
      "cell_type": "code",
      "metadata": {
        "colab": {
          "base_uri": "https://localhost:8080/"
        },
        "id": "XFKiKUMZMD3p",
        "outputId": "a14c6849-0fd2-49e5-b106-756ead3628e2"
      },
      "source": [
        "print(model.predict([15.0]))"
      ],
      "execution_count": null,
      "outputs": [
        {
          "output_type": "stream",
          "text": [
            "[[2285.7673]]\n"
          ],
          "name": "stdout"
        }
      ]
    },
    {
      "cell_type": "code",
      "metadata": {
        "colab": {
          "base_uri": "https://localhost:8080/"
        },
        "id": "gqoAz_gVMES0",
        "outputId": "ba0600dd-99f1-4a78-b52e-36db4512501c"
      },
      "source": [
        "print(model.predict([12.0]))"
      ],
      "execution_count": null,
      "outputs": [
        {
          "output_type": "stream",
          "text": [
            "[[1034.5336]]\n"
          ],
          "name": "stdout"
        }
      ]
    },
    {
      "cell_type": "code",
      "metadata": {
        "colab": {
          "base_uri": "https://localhost:8080/"
        },
        "id": "gq_FrnUfMYNz",
        "outputId": "5809c706-b2a7-4bfe-fbfe-499e8bf437e9"
      },
      "source": [
        "#Interpolacja funkcji 2D\r\n",
        "import numpy as np\r\n",
        "import tensorflow as tf\r\n",
        "from tensorflow import keras\r\n",
        "from keras.models import Sequential\r\n",
        "from keras.layers import Dense\r\n",
        "from math import sin, sqrt, pow\r\n",
        "\r\n",
        "def inputfunct(x, y):\r\n",
        "  return sin(sqrt(pow(x, 2) + pow(y, 2)))/sqrt(pow(x, 2) + pow(y, 2))\r\n",
        "\r\n",
        "x2 = np.arange(-100.0, 100.0, 0.01, dtype = float)\r\n",
        "y2 = np.arange(-100.0, 100.0, 0.01, dtype = float)\r\n",
        "z = []\r\n",
        "xy = []\r\n",
        "for l, m in zip(x, y):\r\n",
        "  z.append(inputfunct(l, m))\r\n",
        "  xy.append([l, m])\r\n",
        "xy = np.array(xy, dtype = float)\r\n",
        "z = np.array(z, dtype = float)\r\n",
        "\r\n",
        "### Model creation: adding layers and compilation\r\n",
        "model2 = tf.keras.Sequential()\r\n",
        "model2.add(Dense(1, input_shape = [2], activation='relu'))\r\n",
        "model2.add(Dense(500, activation='relu', input_shape = [2]))\r\n",
        "model2.add(Dense(500, activation='relu', input_shape = [2]))\r\n",
        "model2.add(Dense(1, activation='linear'))\r\n",
        "\r\n",
        "\r\n",
        "model2.compile(optimizer='adam', loss='MSE')\r\n",
        "#Train the Neural Network\r\n",
        "model2.fit(xy, z, epochs = 50, steps_per_epoch = 50)"
      ],
      "execution_count": null,
      "outputs": [
        {
          "output_type": "stream",
          "text": [
            "Epoch 1/50\n",
            "50/50 [==============================] - 0s 2ms/step - loss: 5086523.2966\n",
            "Epoch 2/50\n",
            "50/50 [==============================] - 0s 2ms/step - loss: 11083.8481\n",
            "Epoch 3/50\n",
            "50/50 [==============================] - 0s 2ms/step - loss: 63.4659\n",
            "Epoch 4/50\n",
            "50/50 [==============================] - 0s 2ms/step - loss: 248.6637\n",
            "Epoch 5/50\n",
            "50/50 [==============================] - 0s 2ms/step - loss: 7.3877\n",
            "Epoch 6/50\n",
            "50/50 [==============================] - 0s 2ms/step - loss: 0.0187\n",
            "Epoch 7/50\n",
            "50/50 [==============================] - 0s 2ms/step - loss: 0.0968\n",
            "Epoch 8/50\n",
            "50/50 [==============================] - 0s 2ms/step - loss: 0.0032\n",
            "Epoch 9/50\n",
            "50/50 [==============================] - 0s 2ms/step - loss: 0.0015\n",
            "Epoch 10/50\n",
            "50/50 [==============================] - 0s 2ms/step - loss: 0.0014\n",
            "Epoch 11/50\n",
            "50/50 [==============================] - 0s 2ms/step - loss: 0.0016\n",
            "Epoch 12/50\n",
            "50/50 [==============================] - 0s 2ms/step - loss: 0.0016\n",
            "Epoch 13/50\n",
            "50/50 [==============================] - 0s 2ms/step - loss: 0.0017\n",
            "Epoch 14/50\n",
            "50/50 [==============================] - 0s 2ms/step - loss: 0.0017\n",
            "Epoch 15/50\n",
            "50/50 [==============================] - 0s 2ms/step - loss: 0.0019\n",
            "Epoch 16/50\n",
            "50/50 [==============================] - 0s 2ms/step - loss: 0.0016\n",
            "Epoch 17/50\n",
            "50/50 [==============================] - 0s 2ms/step - loss: 0.0016\n",
            "Epoch 18/50\n",
            "50/50 [==============================] - 0s 2ms/step - loss: 0.0015\n",
            "Epoch 19/50\n",
            "50/50 [==============================] - 0s 2ms/step - loss: 0.0018\n",
            "Epoch 20/50\n",
            "50/50 [==============================] - 0s 2ms/step - loss: 0.0017\n",
            "Epoch 21/50\n",
            "50/50 [==============================] - 0s 2ms/step - loss: 0.0018\n",
            "Epoch 22/50\n",
            "50/50 [==============================] - 0s 2ms/step - loss: 0.0016\n",
            "Epoch 23/50\n",
            "50/50 [==============================] - 0s 2ms/step - loss: 0.0016\n",
            "Epoch 24/50\n",
            "50/50 [==============================] - 0s 2ms/step - loss: 0.0016\n",
            "Epoch 25/50\n",
            "50/50 [==============================] - 0s 2ms/step - loss: 0.0015\n",
            "Epoch 26/50\n",
            "50/50 [==============================] - 0s 2ms/step - loss: 0.0018\n",
            "Epoch 27/50\n",
            "50/50 [==============================] - 0s 2ms/step - loss: 0.0017\n",
            "Epoch 28/50\n",
            "50/50 [==============================] - 0s 2ms/step - loss: 0.0015\n",
            "Epoch 29/50\n",
            "50/50 [==============================] - 0s 2ms/step - loss: 0.0017\n",
            "Epoch 30/50\n",
            "50/50 [==============================] - 0s 2ms/step - loss: 0.0017\n",
            "Epoch 31/50\n",
            "50/50 [==============================] - 0s 2ms/step - loss: 0.0015\n",
            "Epoch 32/50\n",
            "50/50 [==============================] - 0s 2ms/step - loss: 0.0016\n",
            "Epoch 33/50\n",
            "50/50 [==============================] - 0s 2ms/step - loss: 0.0016\n",
            "Epoch 34/50\n",
            "50/50 [==============================] - 0s 2ms/step - loss: 0.0016\n",
            "Epoch 35/50\n",
            "50/50 [==============================] - 0s 2ms/step - loss: 0.0018\n",
            "Epoch 36/50\n",
            "50/50 [==============================] - 0s 2ms/step - loss: 2052.1510\n",
            "Epoch 37/50\n",
            "50/50 [==============================] - 0s 2ms/step - loss: 7081.6866\n",
            "Epoch 38/50\n",
            "50/50 [==============================] - 0s 2ms/step - loss: 2516.5372\n",
            "Epoch 39/50\n",
            "50/50 [==============================] - 0s 2ms/step - loss: 47.9545\n",
            "Epoch 40/50\n",
            "50/50 [==============================] - 0s 2ms/step - loss: 5.7454\n",
            "Epoch 41/50\n",
            "50/50 [==============================] - 0s 2ms/step - loss: 0.4692\n",
            "Epoch 42/50\n",
            "50/50 [==============================] - 0s 2ms/step - loss: 0.0033\n",
            "Epoch 43/50\n",
            "50/50 [==============================] - 0s 2ms/step - loss: 0.0016\n",
            "Epoch 44/50\n",
            "50/50 [==============================] - 0s 2ms/step - loss: 0.0016\n",
            "Epoch 45/50\n",
            "50/50 [==============================] - 0s 2ms/step - loss: 0.0018\n",
            "Epoch 46/50\n",
            "50/50 [==============================] - 0s 2ms/step - loss: 0.0015\n",
            "Epoch 47/50\n",
            "50/50 [==============================] - 0s 2ms/step - loss: 0.0017\n",
            "Epoch 48/50\n",
            "50/50 [==============================] - 0s 2ms/step - loss: 0.0017\n",
            "Epoch 49/50\n",
            "50/50 [==============================] - 0s 2ms/step - loss: 0.0016\n",
            "Epoch 50/50\n",
            "50/50 [==============================] - 0s 2ms/step - loss: 0.0016\n"
          ],
          "name": "stdout"
        },
        {
          "output_type": "execute_result",
          "data": {
            "text/plain": [
              "<tensorflow.python.keras.callbacks.History at 0x7f68c01f3278>"
            ]
          },
          "metadata": {
            "tags": []
          },
          "execution_count": 20
        }
      ]
    },
    {
      "cell_type": "code",
      "metadata": {
        "colab": {
          "base_uri": "https://localhost:8080/"
        },
        "id": "2jAfIrhjMb9g",
        "outputId": "884bef5c-a3f3-4c7e-a11f-0384aa7c085d"
      },
      "source": [
        "print(model2.predict([[2.0, 2.0]]))"
      ],
      "execution_count": null,
      "outputs": [
        {
          "output_type": "stream",
          "text": [
            "[[-0.00284236]]\n"
          ],
          "name": "stdout"
        }
      ]
    },
    {
      "cell_type": "code",
      "metadata": {
        "colab": {
          "base_uri": "https://localhost:8080/"
        },
        "id": "AlN8iCgrMccE",
        "outputId": "b62fb093-d13e-42c8-df0c-fe072122dc8e"
      },
      "source": [
        "print(model2.predict([[8.0, 8.0]]))"
      ],
      "execution_count": null,
      "outputs": [
        {
          "output_type": "stream",
          "text": [
            "[[-0.00284236]]\n"
          ],
          "name": "stdout"
        }
      ]
    },
    {
      "cell_type": "code",
      "metadata": {
        "id": "cZC97EbdMo1e"
      },
      "source": [
        "#############################################################################\r\n",
        "#############################################################################\r\n",
        "#ZADANIE 3"
      ],
      "execution_count": null,
      "outputs": []
    },
    {
      "cell_type": "code",
      "metadata": {
        "id": "Z8RqeoXKMypc"
      },
      "source": [
        "import math\r\n",
        "import tensorflow as tf\r\n",
        "from tensorflow import keras\r\n",
        "import numpy as np\r\n",
        "import matplotlib.pyplot as plt\r\n",
        "%matplotlib inline"
      ],
      "execution_count": null,
      "outputs": []
    },
    {
      "cell_type": "code",
      "metadata": {
        "colab": {
          "base_uri": "https://localhost:8080/"
        },
        "id": "nk0YEiFcM66b",
        "outputId": "6a730222-b3a2-4674-9138-4996e1bcf17f"
      },
      "source": [
        "fashion_mnist = keras.datasets.fashion_mnist\r\n",
        "(x_train, y_train), (x_test, y_test) = fashion_mnist.load_data()\r\n",
        "x_train.shape, x_test.shape, np.unique(y_train)"
      ],
      "execution_count": null,
      "outputs": [
        {
          "output_type": "stream",
          "text": [
            "Downloading data from https://storage.googleapis.com/tensorflow/tf-keras-datasets/train-labels-idx1-ubyte.gz\n",
            "32768/29515 [=================================] - 0s 0us/step\n",
            "Downloading data from https://storage.googleapis.com/tensorflow/tf-keras-datasets/train-images-idx3-ubyte.gz\n",
            "26427392/26421880 [==============================] - 0s 0us/step\n",
            "Downloading data from https://storage.googleapis.com/tensorflow/tf-keras-datasets/t10k-labels-idx1-ubyte.gz\n",
            "8192/5148 [===============================================] - 0s 0us/step\n",
            "Downloading data from https://storage.googleapis.com/tensorflow/tf-keras-datasets/t10k-images-idx3-ubyte.gz\n",
            "4423680/4422102 [==============================] - 0s 0us/step\n"
          ],
          "name": "stdout"
        },
        {
          "output_type": "execute_result",
          "data": {
            "text/plain": [
              "((60000, 28, 28),\n",
              " (10000, 28, 28),\n",
              " array([0, 1, 2, 3, 4, 5, 6, 7, 8, 9], dtype=uint8))"
            ]
          },
          "metadata": {
            "tags": []
          },
          "execution_count": 24
        }
      ]
    },
    {
      "cell_type": "code",
      "metadata": {
        "id": "ylDLjwqaNkWL"
      },
      "source": [
        "class_names = {i:cn for i, cn in enumerate(['T-shirt/top', 'Trouser', 'Pullover', 'Dress', 'Coat',\r\n",
        "               'Sandal', 'Shirt', 'Sneaker', 'Bag', 'Ankle boot']) }"
      ],
      "execution_count": null,
      "outputs": []
    },
    {
      "cell_type": "code",
      "metadata": {
        "colab": {
          "base_uri": "https://localhost:8080/",
          "height": 396
        },
        "id": "qkigCUL4NMT7",
        "outputId": "467cd328-03e9-4385-f937-9c17d73f06db"
      },
      "source": [
        "def plot(images, labels, predictions=None):\r\n",
        "  \r\n",
        "    # create a grid with 5 columns\r\n",
        "    n_cols = min(5, len(images))\r\n",
        "    n_rows = math.ceil(len(images) / n_cols)\r\n",
        "    fig, axes = plt.subplots(n_rows, n_cols, figsize=(n_cols+3, n_rows+4))\r\n",
        "    \r\n",
        "    if predictions is None:\r\n",
        "        predictions = [None] * len(labels)\r\n",
        "        \r\n",
        "    for i, (x, y_true, y_pred) in enumerate(zip(images, labels, predictions)):\r\n",
        "        ax = axes.flat[i]\r\n",
        "        ax.imshow(x, cmap=plt.cm.binary)\r\n",
        "        \r\n",
        "        ax.set_title(f\"lbl: {class_names[y_true]}\")\r\n",
        "        \r\n",
        "        if y_pred is not None:\r\n",
        "            ax.set_xlabel(f\"pred: {class_names[y_pred]}\")\r\n",
        "    \r\n",
        "        ax.set_xticks([])\r\n",
        "        ax.set_yticks([])\r\n",
        "\r\n",
        "# plot first few images\r\n",
        "plot(x_train[:15], y_train[:15])  "
      ],
      "execution_count": null,
      "outputs": [
        {
          "output_type": "display_data",
          "data": {
            "image/png": "[encoded data removed]",
            "text/plain": [
              "<Figure size 576x504 with 15 Axes>"
            ]
          },
          "metadata": {
            "tags": []
          }
        }
      ]
    },
    {
      "cell_type": "code",
      "metadata": {
        "id": "UAHW1PVGNP2N"
      },
      "source": [
        "x_train = x_train / 255.0\r\n",
        "x_test = x_test / 255.0"
      ],
      "execution_count": null,
      "outputs": []
    },
    {
      "cell_type": "code",
      "metadata": {
        "colab": {
          "base_uri": "https://localhost:8080/"
        },
        "id": "MfegebwpNQcN",
        "outputId": "79937ba3-919d-45a4-b4f3-884ae53f0193"
      },
      "source": [
        "from tensorflow.keras.layers import Flatten, add, Dense, Dropout\r\n",
        "from tensorflow.keras.callbacks import EarlyStopping\r\n",
        "from tensorflow.keras.models import Sequential\r\n",
        "\r\n",
        "modelP = tf.keras.Sequential()\r\n",
        "modelP.add(Flatten(input_shape=(28, 28)))\r\n",
        "modelP.add(Dense(128, activation='relu'))\r\n",
        "modelP.add(Dropout(0.2))\r\n",
        "modelP.add(Dense(64, activation='relu'))\r\n",
        "modelP.add(Dropout(0.2))\r\n",
        "modelP.add(Dense(32, activation='relu'))\r\n",
        "modelP.add(Dropout(0.2))\r\n",
        "modelP.add(Dense(10, activation = 'softmax'))\r\n",
        "\r\n",
        "EarlyStop = EarlyStopping(monitor='val_loss', patience=3, verbose=1)\r\n",
        "\r\n",
        "modelP.compile(optimizer=\"adam\", loss=\"sparse_categorical_crossentropy\", metrics=[\"accuracy\"])\r\n",
        "modelP.fit(x_train, y_train, batch_size=60, epochs=10, validation_split=0.2, callbacks = [EarlyStop])"
      ],
      "execution_count": null,
      "outputs": [
        {
          "output_type": "stream",
          "text": [
            "Epoch 1/10\n",
            "800/800 [==============================] - 2s 3ms/step - loss: 1.0461 - accuracy: 0.6242 - val_loss: 0.4536 - val_accuracy: 0.8347\n",
            "Epoch 2/10\n",
            "800/800 [==============================] - 2s 2ms/step - loss: 0.5109 - accuracy: 0.8205 - val_loss: 0.4211 - val_accuracy: 0.8487\n",
            "Epoch 3/10\n",
            "800/800 [==============================] - 2s 2ms/step - loss: 0.4566 - accuracy: 0.8405 - val_loss: 0.3921 - val_accuracy: 0.8601\n",
            "Epoch 4/10\n",
            "800/800 [==============================] - 2s 2ms/step - loss: 0.4220 - accuracy: 0.8506 - val_loss: 0.3654 - val_accuracy: 0.8647\n",
            "Epoch 5/10\n",
            "800/800 [==============================] - 2s 2ms/step - loss: 0.4067 - accuracy: 0.8530 - val_loss: 0.3735 - val_accuracy: 0.8619\n",
            "Epoch 6/10\n",
            "800/800 [==============================] - 2s 2ms/step - loss: 0.3903 - accuracy: 0.8629 - val_loss: 0.3529 - val_accuracy: 0.8723\n",
            "Epoch 7/10\n",
            "800/800 [==============================] - 2s 2ms/step - loss: 0.3688 - accuracy: 0.8671 - val_loss: 0.3557 - val_accuracy: 0.8734\n",
            "Epoch 8/10\n",
            "800/800 [==============================] - 2s 2ms/step - loss: 0.3636 - accuracy: 0.8707 - val_loss: 0.3656 - val_accuracy: 0.8706\n",
            "Epoch 9/10\n",
            "800/800 [==============================] - 2s 2ms/step - loss: 0.3548 - accuracy: 0.8738 - val_loss: 0.3484 - val_accuracy: 0.8752\n",
            "Epoch 10/10\n",
            "800/800 [==============================] - 2s 2ms/step - loss: 0.3441 - accuracy: 0.8773 - val_loss: 0.3304 - val_accuracy: 0.8797\n"
          ],
          "name": "stdout"
        },
        {
          "output_type": "execute_result",
          "data": {
            "text/plain": [
              "<tensorflow.python.keras.callbacks.History at 0x7f68b60b47f0>"
            ]
          },
          "metadata": {
            "tags": []
          },
          "execution_count": 28
        }
      ]
    },
    {
      "cell_type": "code",
      "metadata": {
        "colab": {
          "base_uri": "https://localhost:8080/"
        },
        "id": "f5gRQcJGNUXZ",
        "outputId": "6bdf6dcb-18a9-4639-a908-72690cbb8bfe"
      },
      "source": [
        "loss, accuracy = modelP.evaluate(x_test, y_test)\r\n",
        "print(f\"Accuracy = {accuracy*100:.2f} %\")"
      ],
      "execution_count": null,
      "outputs": [
        {
          "output_type": "stream",
          "text": [
            "313/313 [==============================] - 1s 2ms/step - loss: 0.3610 - accuracy: 0.8714\n",
            "Accuracy = 87.14 %\n"
          ],
          "name": "stdout"
        }
      ]
    },
    {
      "cell_type": "code",
      "metadata": {
        "colab": {
          "base_uri": "https://localhost:8080/",
          "height": 402,
          "referenced_widgets": [
            "2393a1f48b4646409df303f610734a48",
            "ac26150846854c2192787cde2a8385b0",
            "1e00fe6a6f56417a9c7584fc2feec11d",
            "97f76ff845634a17a4c8234fdf6f0f90",
            "285f4b890a6f4d22b7eacc04a2c1bff0",
            "e33c5c4f457f4492b2ed4d6fa5b974a6",
            "8fc86ba0f5a44ab4ba5eec5d2da194d4"
          ]
        },
        "id": "AmZsfwykNUxs",
        "outputId": "26f51065-54b8-4789-9606-922ae01533f5"
      },
      "source": [
        "from ipywidgets import interact, widgets\r\n",
        "img_idx_slider = widgets.IntSlider(value=0, min=0, max=len(x_test)-1, description=\"Image index\")\r\n",
        "probs = modelP.predict(x_test)\r\n",
        "preds = np.argmax(modelP.predict(x_test), axis=-1)\r\n",
        "@interact(i=img_idx_slider)\r\n",
        "def visualize_prediction(i=0):\r\n",
        "    fix, (ax1, ax2) = plt.subplots(1, 2, figsize=(10, 5))\r\n",
        "    ax1.imshow(x_test[i], cmap=plt.cm.binary)\r\n",
        "    ax1.set_title(f\"lbl: {class_names[y_test[i]]}\")\r\n",
        "    ax1.set_xlabel(f\"pred: {class_names[preds[i]]}\")\r\n",
        "\r\n",
        "\r\n",
        "    ax2.bar(x=[class_names[i] for i in range(10)], height=probs[i]*100)\r\n",
        "    plt.xticks(rotation=90)"
      ],
      "execution_count": null,
      "outputs": [
        {
          "output_type": "display_data",
          "data": {
            "application/vnd.jupyter.widget-view+json": {
              "model_id": "2393a1f48b4646409df303f610734a48",
              "version_minor": 0,
              "version_major": 2
            },
            "text/plain": [
              "interactive(children=(IntSlider(value=0, description='Image index', max=9999), Output()), _dom_classes=('widge…"
            ]
          },
          "metadata": {
            "tags": []
          }
        }
      ]
    }
  ]
}